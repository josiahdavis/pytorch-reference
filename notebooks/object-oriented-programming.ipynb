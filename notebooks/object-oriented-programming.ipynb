{
 "cells": [
  {
   "cell_type": "markdown",
   "metadata": {},
   "source": [
    "# Object Oriented Programming\n",
    "\n",
    "A quick reference about OOO in Python. Not specific to PyTorch. Covers some not-so-well-known/used aspects of OOP for Data Scientists. \n",
    "\n",
    "Currently, it covers:\n",
    "\n",
    "- Special methods (e.g., `__len__`, `__repr__`)\n",
    "- Inheritance\n",
    "- staticmethod and classmethod\n",
    "\n",
    "Todo:\n",
    "- Properties\n"
   ]
  },
  {
   "cell_type": "code",
   "execution_count": 1,
   "metadata": {},
   "outputs": [
    {
     "name": "stdout",
     "output_type": "stream",
     "text": [
      "Platform Linux-4.15.0-1060-aws-x86_64-with-debian-buster-sid\n",
      "Python 3.6.5 |Anaconda, Inc.| (default, Apr 29 2018, 16:14:56) \n",
      "[GCC 7.2.0]\n"
     ]
    }
   ],
   "source": [
    "import platform; print(\"Platform\", platform.platform())\n",
    "import sys; print(\"Python\", sys.version)"
   ]
  },
  {
   "cell_type": "code",
   "execution_count": 2,
   "metadata": {},
   "outputs": [],
   "source": [
    "import numpy as np\n",
    "x = np.random.rand(4, 8)\n",
    "y = np.random.randint(0, 2, size=(4, 3))"
   ]
  },
  {
   "cell_type": "markdown",
   "metadata": {},
   "source": [
    "## Special Methods\n",
    "\n",
    "### `__repr__` or `__str__` are what happens when you print an object. \n",
    "\n",
    "Some advice I've found ([here](https://stackoverflow.com/questions/1436703/difference-between-str-and-repr) and [here](https://stackoverflow.com/questions/1436703/difference-between-str-and-repr/1436756#1436756)) is to make `__str__` more readable version `__repr__` if necessary and that every class should have a `__repr__`."
   ]
  },
  {
   "cell_type": "code",
   "execution_count": 3,
   "metadata": {},
   "outputs": [],
   "source": [
    "class Data:\n",
    "    \n",
    "    def __init__(self, x, y):\n",
    "        self.x = x\n",
    "        self.y = y\n",
    "    \n",
    "    def __repr__(self):\n",
    "        return f\"Data(X={[x.shape[0],x.shape[1]]}, Y={[y.shape[0],y.shape[1]]})\"\n",
    "    \n",
    "    def __str__(self):\n",
    "        return f\"Data has {x.shape[0]} rows, \" + \\\n",
    "        f\"{x.shape[1]} columns, and {y.shape[1]} classes\""
   ]
  },
  {
   "cell_type": "code",
   "execution_count": 4,
   "metadata": {},
   "outputs": [],
   "source": [
    "data = Data(x, y)"
   ]
  },
  {
   "cell_type": "code",
   "execution_count": 5,
   "metadata": {},
   "outputs": [
    {
     "name": "stdout",
     "output_type": "stream",
     "text": [
      "Data has 4 rows, 8 columns, and 3 classes\n"
     ]
    }
   ],
   "source": [
    "print(str(data))"
   ]
  },
  {
   "cell_type": "code",
   "execution_count": 6,
   "metadata": {},
   "outputs": [
    {
     "name": "stdout",
     "output_type": "stream",
     "text": [
      "Data(X=[4, 8], Y=[4, 3])\n"
     ]
    }
   ],
   "source": [
    "print(repr(data))"
   ]
  },
  {
   "cell_type": "code",
   "execution_count": 7,
   "metadata": {},
   "outputs": [
    {
     "data": {
      "text/plain": [
       "Data(X=[4, 8], Y=[4, 3])"
      ]
     },
     "execution_count": 7,
     "metadata": {},
     "output_type": "execute_result"
    }
   ],
   "source": [
    "data # Looks like Jupyter uses repr by default"
   ]
  },
  {
   "cell_type": "code",
   "execution_count": 8,
   "metadata": {},
   "outputs": [
    {
     "name": "stdout",
     "output_type": "stream",
     "text": [
      "Data has 4 rows, 8 columns, and 3 classes\n"
     ]
    }
   ],
   "source": [
    "print(data) # Looks like python uses print(str) by default"
   ]
  },
  {
   "cell_type": "markdown",
   "metadata": {},
   "source": [
    "### `__len__` is what happens when you call `len(obj`."
   ]
  },
  {
   "cell_type": "code",
   "execution_count": 9,
   "metadata": {},
   "outputs": [],
   "source": [
    "class Data:\n",
    "    \n",
    "    def __init__(self, x, y):\n",
    "        self.x = x\n",
    "        self.y = y\n",
    "    \n",
    "    def __repr__(self):\n",
    "        return f\"Data(X={[x.shape[0],x.shape[1]]}, Y={[y.shape[0],y.shape[1]]})\"\n",
    "    \n",
    "    def __str__(self):\n",
    "        return f\"Data has {x.shape[0]} rows, \" + \\\n",
    "        f\"{x.shape[1]} columns, and {y.shape[1]} classes\"\n",
    "    \n",
    "    def __len__(self):\n",
    "        return x.shape[0]"
   ]
  },
  {
   "cell_type": "code",
   "execution_count": 10,
   "metadata": {},
   "outputs": [
    {
     "data": {
      "text/plain": [
       "4"
      ]
     },
     "execution_count": 10,
     "metadata": {},
     "output_type": "execute_result"
    }
   ],
   "source": [
    "data = Data(x, y)\n",
    "len(data)"
   ]
  },
  {
   "cell_type": "markdown",
   "metadata": {},
   "source": [
    "### `__iter__` is what happens when you try to iterate through a for loop."
   ]
  },
  {
   "cell_type": "code",
   "execution_count": 11,
   "metadata": {},
   "outputs": [],
   "source": [
    "class Data:\n",
    "    \n",
    "    def __init__(self, x, y):\n",
    "        self.x = x\n",
    "        self.y = y\n",
    "    \n",
    "    def __repr__(self):\n",
    "        return f\"Data(X={[x.shape[0],x.shape[1]]}, Y={[y.shape[0],y.shape[1]]})\"\n",
    "    \n",
    "    def __str__(self):\n",
    "        return f\"Data has {x.shape[0]} rows, \" + \\\n",
    "        f\"{x.shape[1]} columns, and {y.shape[1]} classes\"\n",
    "    \n",
    "    def __len__(self):\n",
    "        return x.shape[0]\n",
    "    \n",
    "    def __iter__(self):\n",
    "        for i in range(len(self)):\n",
    "            yield x[i,:], y[i,:]"
   ]
  },
  {
   "cell_type": "code",
   "execution_count": 12,
   "metadata": {},
   "outputs": [
    {
     "name": "stdout",
     "output_type": "stream",
     "text": [
      "(array([0.41794565, 0.16896076, 0.34962879, 0.18401298, 0.59416806,\n",
      "       0.25896057, 0.40572897, 0.554468  ]), array([0, 0, 1]))\n",
      "(array([0.76751111, 0.47275089, 0.12654282, 0.87752298, 0.62757249,\n",
      "       0.07713261, 0.3371223 , 0.46789909]), array([1, 0, 1]))\n",
      "(array([0.37341372, 0.01939083, 0.41243808, 0.95163653, 0.12225101,\n",
      "       0.86191834, 0.03563386, 0.87389153]), array([0, 0, 1]))\n",
      "(array([0.31591386, 0.21205521, 0.5229539 , 0.88034027, 0.71658461,\n",
      "       0.84195059, 0.640154  , 0.59905214]), array([1, 1, 0]))\n"
     ]
    }
   ],
   "source": [
    "data = Data(x, y)\n",
    "for d in data:\n",
    "    print(d)"
   ]
  },
  {
   "cell_type": "markdown",
   "metadata": {},
   "source": [
    "### `__getitem__(self, i)` is what happens when you slice a dataset."
   ]
  },
  {
   "cell_type": "code",
   "execution_count": 13,
   "metadata": {},
   "outputs": [],
   "source": [
    "class Data:\n",
    "    \n",
    "    def __init__(self, x, y):\n",
    "        self.x = x\n",
    "        self.y = y\n",
    "    \n",
    "    def __repr__(self):\n",
    "        return f\"Data(X={[x.shape[0],x.shape[1]]}, Y={[y.shape[0],y.shape[1]]})\"\n",
    "    \n",
    "    def __str__(self):\n",
    "        return f\"Data has {x.shape[0]} rows, \" + \\\n",
    "        f\"{x.shape[1]} columns, and {y.shape[1]} classes\"\n",
    "    \n",
    "    def __len__(self):\n",
    "        return x.shape[0]\n",
    "    \n",
    "    def __iter__(self):\n",
    "        for i in range(len(self)):\n",
    "            yield x[i,:], y[i,:]\n",
    "            \n",
    "    def __getitem__(self, i):\n",
    "        return self.x[i, :], self.y[i, :]"
   ]
  },
  {
   "cell_type": "code",
   "execution_count": 14,
   "metadata": {
    "scrolled": true
   },
   "outputs": [
    {
     "data": {
      "text/plain": [
       "(array([0.37341372, 0.01939083, 0.41243808, 0.95163653, 0.12225101,\n",
       "        0.86191834, 0.03563386, 0.87389153]), array([0, 0, 1]))"
      ]
     },
     "execution_count": 14,
     "metadata": {},
     "output_type": "execute_result"
    }
   ],
   "source": [
    "data = Data(x, y)\n",
    "data[2]"
   ]
  },
  {
   "cell_type": "code",
   "execution_count": 15,
   "metadata": {},
   "outputs": [
    {
     "data": {
      "text/plain": [
       "(array([[0.37341372, 0.01939083, 0.41243808, 0.95163653, 0.12225101,\n",
       "         0.86191834, 0.03563386, 0.87389153],\n",
       "        [0.31591386, 0.21205521, 0.5229539 , 0.88034027, 0.71658461,\n",
       "         0.84195059, 0.640154  , 0.59905214]]), array([[0, 0, 1],\n",
       "        [1, 1, 0]]))"
      ]
     },
     "execution_count": 15,
     "metadata": {},
     "output_type": "execute_result"
    }
   ],
   "source": [
    "data[2:4]"
   ]
  },
  {
   "cell_type": "markdown",
   "metadata": {},
   "source": [
    "### `__call__(self, args)` is what happens when you call the object"
   ]
  },
  {
   "cell_type": "code",
   "execution_count": 16,
   "metadata": {},
   "outputs": [],
   "source": [
    "class Data:\n",
    "    \n",
    "    def __init__(self, x, y):\n",
    "        self.x = x\n",
    "        self.y = y\n",
    "    \n",
    "    def __repr__(self):\n",
    "        return f\"Data(X={[x.shape[0],x.shape[1]]}, Y={[y.shape[0],y.shape[1]]})\"\n",
    "    \n",
    "    def __str__(self):\n",
    "        return f\"Data has {x.shape[0]} rows, \" + \\\n",
    "        f\"{x.shape[1]} columns, and {y.shape[1]} classes\"\n",
    "    \n",
    "    def __len__(self):\n",
    "        return x.shape[0]\n",
    "    \n",
    "    def __iter__(self):\n",
    "        \"Note the usage of __len__\"\n",
    "        for i in range(len(self)):\n",
    "            yield x[i,:], y[i,:]\n",
    "            \n",
    "    def __getitem__(self, i):\n",
    "        return self.x[i, :], self.y[i, :]\n",
    "    \n",
    "    def __call__(self):\n",
    "        \"\"\"Get a random sample of x.\n",
    "        Note the usage of __len__ and __getitem__\"\"\"\n",
    "        return self[np.random.randint(0, len(self))]"
   ]
  },
  {
   "cell_type": "code",
   "execution_count": 17,
   "metadata": {},
   "outputs": [],
   "source": [
    "data = Data(x, y)"
   ]
  },
  {
   "cell_type": "code",
   "execution_count": 18,
   "metadata": {},
   "outputs": [
    {
     "data": {
      "text/plain": [
       "(array([0.76751111, 0.47275089, 0.12654282, 0.87752298, 0.62757249,\n",
       "        0.07713261, 0.3371223 , 0.46789909]), array([1, 0, 1]))"
      ]
     },
     "execution_count": 18,
     "metadata": {},
     "output_type": "execute_result"
    }
   ],
   "source": [
    "data()"
   ]
  },
  {
   "cell_type": "code",
   "execution_count": 19,
   "metadata": {},
   "outputs": [
    {
     "data": {
      "text/plain": [
       "(array([0.41794565, 0.16896076, 0.34962879, 0.18401298, 0.59416806,\n",
       "        0.25896057, 0.40572897, 0.554468  ]), array([0, 0, 1]))"
      ]
     },
     "execution_count": 19,
     "metadata": {},
     "output_type": "execute_result"
    }
   ],
   "source": [
    "data()"
   ]
  },
  {
   "cell_type": "markdown",
   "metadata": {},
   "source": [
    "## Inheritance"
   ]
  },
  {
   "cell_type": "code",
   "execution_count": 20,
   "metadata": {},
   "outputs": [],
   "source": [
    "class Trainer:\n",
    "    \n",
    "    def __init__(self, n_iter):\n",
    "        self.n_iter = n_iter\n",
    "    \n",
    "    def run_training(self):\n",
    "        for i in range(self.n_iter):\n",
    "            print(f\"{i+1}/{self.n_iter} epochs complete\")"
   ]
  },
  {
   "cell_type": "markdown",
   "metadata": {},
   "source": [
    "Next, we create a more specific (aka child) class which will inherit the methods from the more abstract class (aka parent). Additionally, you can use the more specific class to specify attributes in the original class."
   ]
  },
  {
   "cell_type": "code",
   "execution_count": 21,
   "metadata": {},
   "outputs": [],
   "source": [
    "class ImageTrainer(Trainer):\n",
    "    \n",
    "    def load_image_data(self):\n",
    "        print(f\"Loaded data\")"
   ]
  },
  {
   "cell_type": "code",
   "execution_count": 22,
   "metadata": {},
   "outputs": [
    {
     "name": "stdout",
     "output_type": "stream",
     "text": [
      "Loaded data\n"
     ]
    }
   ],
   "source": [
    "it = ImageTrainer(n_iter=5)\n",
    "it.load_image_data()"
   ]
  },
  {
   "cell_type": "code",
   "execution_count": 23,
   "metadata": {},
   "outputs": [
    {
     "name": "stdout",
     "output_type": "stream",
     "text": [
      "1/5 epochs complete\n",
      "2/5 epochs complete\n",
      "3/5 epochs complete\n",
      "4/5 epochs complete\n",
      "5/5 epochs complete\n"
     ]
    }
   ],
   "source": [
    "it.run_training()"
   ]
  },
  {
   "cell_type": "markdown",
   "metadata": {},
   "source": [
    "## Decorators"
   ]
  },
  {
   "cell_type": "markdown",
   "metadata": {},
   "source": [
    "### `@staticmethod` does not have access to the state of the object and is used as an utility function."
   ]
  },
  {
   "cell_type": "code",
   "execution_count": 24,
   "metadata": {},
   "outputs": [],
   "source": [
    "class Predictor:\n",
    "    \n",
    "    @staticmethod\n",
    "    def predict(x, thresh):\n",
    "        return (x > thresh).astype(int)"
   ]
  },
  {
   "cell_type": "code",
   "execution_count": 25,
   "metadata": {},
   "outputs": [
    {
     "data": {
      "text/plain": [
       "array([1, 0, 1, 1, 1, 0, 0, 1, 0, 0])"
      ]
     },
     "execution_count": 25,
     "metadata": {},
     "output_type": "execute_result"
    }
   ],
   "source": [
    "pred = Predictor()\n",
    "pred.predict(np.random.rand(10), 0.50)"
   ]
  },
  {
   "cell_type": "markdown",
   "metadata": {},
   "source": [
    "### `@classmethod`"
   ]
  },
  {
   "cell_type": "code",
   "execution_count": 26,
   "metadata": {},
   "outputs": [],
   "source": [
    "class Predictor:\n",
    "    \n",
    "    def __init__(self, thresh=0.25):\n",
    "        self.thresh = thresh\n",
    "    \n",
    "    @classmethod\n",
    "    def get_predictor(cls, thresh):\n",
    "        return cls(thresh)\n",
    "    \n",
    "    def predict(self, x):\n",
    "        return (x > self.thresh).astype(int)"
   ]
  },
  {
   "cell_type": "code",
   "execution_count": 27,
   "metadata": {},
   "outputs": [],
   "source": [
    "pred = Predictor().get_predictor(0.5)"
   ]
  },
  {
   "cell_type": "code",
   "execution_count": 28,
   "metadata": {},
   "outputs": [
    {
     "name": "stdout",
     "output_type": "stream",
     "text": [
      "[0.46368406 0.20669878 0.69799196 0.96250332 0.93071782 0.16336832\n",
      " 0.71885213 0.78401567]\n"
     ]
    },
    {
     "data": {
      "text/plain": [
       "array([0, 0, 1, 1, 1, 0, 1, 1])"
      ]
     },
     "execution_count": 28,
     "metadata": {},
     "output_type": "execute_result"
    }
   ],
   "source": [
    "x = np.random.rand(8); print(x)\n",
    "pred.predict(x)"
   ]
  }
 ],
 "metadata": {
  "kernelspec": {
   "display_name": "Environment (conda_pytorch_p36)",
   "language": "python",
   "name": "conda_pytorch_p36"
  },
  "language_info": {
   "codemirror_mode": {
    "name": "ipython",
    "version": 3
   },
   "file_extension": ".py",
   "mimetype": "text/x-python",
   "name": "python",
   "nbconvert_exporter": "python",
   "pygments_lexer": "ipython3",
   "version": "3.6.5"
  }
 },
 "nbformat": 4,
 "nbformat_minor": 2
}
